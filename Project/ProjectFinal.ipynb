{
 "cells": [
  {
   "cell_type": "code",
   "execution_count": 2,
   "metadata": {},
   "outputs": [],
   "source": [
    "import pandas as pd\n",
    "import numpy as np\n",
    "from shapely.geometry import Point\n",
    "import geopandas as gpd\n",
    "from collections import Counter"
   ]
  },
  {
   "cell_type": "markdown",
   "metadata": {},
   "source": [
    "## Data Importation"
   ]
  },
  {
   "cell_type": "markdown",
   "metadata": {},
   "source": [
    "I modified the data files, to get the localisation in metric, so I can do operation on them"
   ]
  },
  {
   "cell_type": "markdown",
   "metadata": {},
   "source": [
    "This file regroup the results of the study, were people give \"grades\" regarding to 3 main factors: clean (between 1 and 4, 1 is the worst), noise and smell (0 or 1, 1 is the worst)."
   ]
  },
  {
   "cell_type": "code",
   "execution_count": 3,
   "metadata": {},
   "outputs": [],
   "source": [
    "wellbeing=pd.read_csv('TARGET-communities-extract-wellbeingTARGET-communities-extract-wellbeing-meters.csv')"
   ]
  },
  {
   "cell_type": "code",
   "execution_count": 360,
   "metadata": {},
   "outputs": [
    {
     "data": {
      "text/html": [
       "<div>\n",
       "<style scoped>\n",
       "    .dataframe tbody tr th:only-of-type {\n",
       "        vertical-align: middle;\n",
       "    }\n",
       "\n",
       "    .dataframe tbody tr th {\n",
       "        vertical-align: top;\n",
       "    }\n",
       "\n",
       "    .dataframe thead th {\n",
       "        text-align: right;\n",
       "    }\n",
       "</style>\n",
       "<table border=\"1\" class=\"dataframe\">\n",
       "  <thead>\n",
       "    <tr style=\"text-align: right;\">\n",
       "      <th></th>\n",
       "      <th>Unnamed: 0</th>\n",
       "      <th>Unnamed: 1</th>\n",
       "      <th>clean</th>\n",
       "      <th>smell</th>\n",
       "      <th>noise</th>\n",
       "      <th>town</th>\n",
       "      <th>district</th>\n",
       "      <th>longitude</th>\n",
       "      <th>latitude</th>\n",
       "      <th>transformed_longitude</th>\n",
       "      <th>transformed_latitude</th>\n",
       "    </tr>\n",
       "  </thead>\n",
       "  <tbody>\n",
       "    <tr>\n",
       "      <th>0</th>\n",
       "      <td>1</td>\n",
       "      <td>万寿社区居委会</td>\n",
       "      <td>3</td>\n",
       "      <td>0.0</td>\n",
       "      <td>0.0</td>\n",
       "      <td>盈浦街道</td>\n",
       "      <td>青浦区</td>\n",
       "      <td>121.104287</td>\n",
       "      <td>31.155882</td>\n",
       "      <td>-2.822208e+06</td>\n",
       "      <td>4.677636e+06</td>\n",
       "    </tr>\n",
       "    <tr>\n",
       "      <th>1</th>\n",
       "      <td>2</td>\n",
       "      <td>万泰花园第一居委会</td>\n",
       "      <td>3</td>\n",
       "      <td>1.0</td>\n",
       "      <td>0.0</td>\n",
       "      <td>七宝镇</td>\n",
       "      <td>闵行区</td>\n",
       "      <td>121.351529</td>\n",
       "      <td>31.144327</td>\n",
       "      <td>-2.842711e+06</td>\n",
       "      <td>4.665980e+06</td>\n",
       "    </tr>\n",
       "    <tr>\n",
       "      <th>2</th>\n",
       "      <td>3</td>\n",
       "      <td>万科阳光苑居委会</td>\n",
       "      <td>2</td>\n",
       "      <td>0.0</td>\n",
       "      <td>0.0</td>\n",
       "      <td>吴泾镇</td>\n",
       "      <td>闵行区</td>\n",
       "      <td>121.468520</td>\n",
       "      <td>31.042285</td>\n",
       "      <td>-2.855282e+06</td>\n",
       "      <td>4.665149e+06</td>\n",
       "    </tr>\n",
       "    <tr>\n",
       "      <th>3</th>\n",
       "      <td>4</td>\n",
       "      <td>万豪居委会</td>\n",
       "      <td>3</td>\n",
       "      <td>0.0</td>\n",
       "      <td>0.0</td>\n",
       "      <td>长征镇</td>\n",
       "      <td>普陀区</td>\n",
       "      <td>121.367237</td>\n",
       "      <td>31.240725</td>\n",
       "      <td>-2.841109e+06</td>\n",
       "      <td>4.660474e+06</td>\n",
       "    </tr>\n",
       "    <tr>\n",
       "      <th>4</th>\n",
       "      <td>5</td>\n",
       "      <td>万里名轩社区居委会</td>\n",
       "      <td>2</td>\n",
       "      <td>NaN</td>\n",
       "      <td>0.0</td>\n",
       "      <td>万里街道</td>\n",
       "      <td>普陀区</td>\n",
       "      <td>121.403601</td>\n",
       "      <td>31.269155</td>\n",
       "      <td>-2.843214e+06</td>\n",
       "      <td>4.657274e+06</td>\n",
       "    </tr>\n",
       "  </tbody>\n",
       "</table>\n",
       "</div>"
      ],
      "text/plain": [
       "   Unnamed: 0 Unnamed: 1  clean  smell  noise  town district   longitude  \\\n",
       "0           1    万寿社区居委会      3    0.0    0.0  盈浦街道      青浦区  121.104287   \n",
       "1           2  万泰花园第一居委会      3    1.0    0.0   七宝镇      闵行区  121.351529   \n",
       "2           3   万科阳光苑居委会      2    0.0    0.0   吴泾镇      闵行区  121.468520   \n",
       "3           4      万豪居委会      3    0.0    0.0   长征镇      普陀区  121.367237   \n",
       "4           5  万里名轩社区居委会      2    NaN    0.0  万里街道      普陀区  121.403601   \n",
       "\n",
       "    latitude  transformed_longitude  transformed_latitude  \n",
       "0  31.155882          -2.822208e+06          4.677636e+06  \n",
       "1  31.144327          -2.842711e+06          4.665980e+06  \n",
       "2  31.042285          -2.855282e+06          4.665149e+06  \n",
       "3  31.240725          -2.841109e+06          4.660474e+06  \n",
       "4  31.269155          -2.843214e+06          4.657274e+06  "
      ]
     },
     "execution_count": 360,
     "metadata": {},
     "output_type": "execute_result"
    }
   ],
   "source": [
    "wellbeing.head()"
   ]
  },
  {
   "cell_type": "markdown",
   "metadata": {},
   "source": [
    "This file gives us the POI (Point Of Interest in Shanghai) such as restaurant, shopping center etc."
   ]
  },
  {
   "cell_type": "code",
   "execution_count": 4,
   "metadata": {},
   "outputs": [],
   "source": [
    "poi=pd.read_csv('utseus-cendus-poi-meters.csv')"
   ]
  },
  {
   "cell_type": "markdown",
   "metadata": {},
   "source": [
    "This file gives us information on the localisation and speed of the taxis in Shnaghai, for 1 day"
   ]
  },
  {
   "cell_type": "code",
   "execution_count": 5,
   "metadata": {},
   "outputs": [],
   "source": [
    "taxi=pd.read_csv('utseus-shanghai-taxi-speed-position-meters.csv')"
   ]
  },
  {
   "cell_type": "markdown",
   "metadata": {},
   "source": [
    "Here we have the informations about the subway stations"
   ]
  },
  {
   "cell_type": "code",
   "execution_count": 6,
   "metadata": {},
   "outputs": [],
   "source": [
    "Subway=pd.read_csv('subway-meters.csv')"
   ]
  },
  {
   "cell_type": "markdown",
   "metadata": {},
   "source": [
    "## Correspondance between the people's rating and their area"
   ]
  },
  {
   "cell_type": "markdown",
   "metadata": {},
   "source": [
    "The \"grades\" are not in a 'number' format, so we replace them as float, so we can do operations on them"
   ]
  },
  {
   "cell_type": "code",
   "execution_count": 4,
   "metadata": {},
   "outputs": [],
   "source": [
    "wellbeing.replace('', np.nan, inplace=True)\n",
    "\n",
    "wellbeing['clean'] = wellbeing['clean'].apply(lambda x: float(x))\n",
    "wellbeing['smell'] = wellbeing['smell'].apply(lambda x: float(x))\n",
    "wellbeing['noise'] = wellbeing['noise'].apply(lambda x: float(x))\n",
    "wellbeing['longitude'] = wellbeing['longitude'].apply(lambda x: float(x))\n",
    "wellbeing['latitude'] = wellbeing['latitude'].apply(lambda x: float(x))"
   ]
  },
  {
   "cell_type": "markdown",
   "metadata": {},
   "source": [
    "We then transform the datas about longitude and latitude into points, so we can place them in the different neighborhoods"
   ]
  },
  {
   "cell_type": "code",
   "execution_count": 5,
   "metadata": {},
   "outputs": [],
   "source": [
    "geometry = [Point(xy) for xy in zip(wellbeing['transformed_longitude'], wellbeing['transformed_latitude'])]"
   ]
  },
  {
   "cell_type": "code",
   "execution_count": 6,
   "metadata": {},
   "outputs": [],
   "source": [
    "wellbeing['geometry'] = geometry"
   ]
  },
  {
   "cell_type": "code",
   "execution_count": 365,
   "metadata": {},
   "outputs": [
    {
     "data": {
      "text/html": [
       "<div>\n",
       "<style scoped>\n",
       "    .dataframe tbody tr th:only-of-type {\n",
       "        vertical-align: middle;\n",
       "    }\n",
       "\n",
       "    .dataframe tbody tr th {\n",
       "        vertical-align: top;\n",
       "    }\n",
       "\n",
       "    .dataframe thead th {\n",
       "        text-align: right;\n",
       "    }\n",
       "</style>\n",
       "<table border=\"1\" class=\"dataframe\">\n",
       "  <thead>\n",
       "    <tr style=\"text-align: right;\">\n",
       "      <th></th>\n",
       "      <th>Unnamed: 0</th>\n",
       "      <th>Unnamed: 1</th>\n",
       "      <th>clean</th>\n",
       "      <th>smell</th>\n",
       "      <th>noise</th>\n",
       "      <th>town</th>\n",
       "      <th>district</th>\n",
       "      <th>longitude</th>\n",
       "      <th>latitude</th>\n",
       "      <th>transformed_longitude</th>\n",
       "      <th>transformed_latitude</th>\n",
       "      <th>geometry</th>\n",
       "    </tr>\n",
       "  </thead>\n",
       "  <tbody>\n",
       "    <tr>\n",
       "      <th>0</th>\n",
       "      <td>1</td>\n",
       "      <td>万寿社区居委会</td>\n",
       "      <td>3.0</td>\n",
       "      <td>0.0</td>\n",
       "      <td>0.0</td>\n",
       "      <td>盈浦街道</td>\n",
       "      <td>青浦区</td>\n",
       "      <td>121.104287</td>\n",
       "      <td>31.155882</td>\n",
       "      <td>-2.822208e+06</td>\n",
       "      <td>4.677636e+06</td>\n",
       "      <td>POINT (-2822207.586532274 4677635.626522204)</td>\n",
       "    </tr>\n",
       "    <tr>\n",
       "      <th>1</th>\n",
       "      <td>2</td>\n",
       "      <td>万泰花园第一居委会</td>\n",
       "      <td>3.0</td>\n",
       "      <td>1.0</td>\n",
       "      <td>0.0</td>\n",
       "      <td>七宝镇</td>\n",
       "      <td>闵行区</td>\n",
       "      <td>121.351529</td>\n",
       "      <td>31.144327</td>\n",
       "      <td>-2.842711e+06</td>\n",
       "      <td>4.665980e+06</td>\n",
       "      <td>POINT (-2842710.938446562 4665979.72602233)</td>\n",
       "    </tr>\n",
       "    <tr>\n",
       "      <th>2</th>\n",
       "      <td>3</td>\n",
       "      <td>万科阳光苑居委会</td>\n",
       "      <td>2.0</td>\n",
       "      <td>0.0</td>\n",
       "      <td>0.0</td>\n",
       "      <td>吴泾镇</td>\n",
       "      <td>闵行区</td>\n",
       "      <td>121.468520</td>\n",
       "      <td>31.042285</td>\n",
       "      <td>-2.855282e+06</td>\n",
       "      <td>4.665149e+06</td>\n",
       "      <td>POINT (-2855282.42475198 4665148.863744967)</td>\n",
       "    </tr>\n",
       "    <tr>\n",
       "      <th>3</th>\n",
       "      <td>4</td>\n",
       "      <td>万豪居委会</td>\n",
       "      <td>3.0</td>\n",
       "      <td>0.0</td>\n",
       "      <td>0.0</td>\n",
       "      <td>长征镇</td>\n",
       "      <td>普陀区</td>\n",
       "      <td>121.367237</td>\n",
       "      <td>31.240725</td>\n",
       "      <td>-2.841109e+06</td>\n",
       "      <td>4.660474e+06</td>\n",
       "      <td>POINT (-2841108.748930958 4660473.749148724)</td>\n",
       "    </tr>\n",
       "    <tr>\n",
       "      <th>4</th>\n",
       "      <td>5</td>\n",
       "      <td>万里名轩社区居委会</td>\n",
       "      <td>2.0</td>\n",
       "      <td>NaN</td>\n",
       "      <td>0.0</td>\n",
       "      <td>万里街道</td>\n",
       "      <td>普陀区</td>\n",
       "      <td>121.403601</td>\n",
       "      <td>31.269155</td>\n",
       "      <td>-2.843214e+06</td>\n",
       "      <td>4.657274e+06</td>\n",
       "      <td>POINT (-2843213.856075277 4657273.732656028)</td>\n",
       "    </tr>\n",
       "  </tbody>\n",
       "</table>\n",
       "</div>"
      ],
      "text/plain": [
       "   Unnamed: 0 Unnamed: 1  clean  smell  noise  town district   longitude  \\\n",
       "0           1    万寿社区居委会    3.0    0.0    0.0  盈浦街道      青浦区  121.104287   \n",
       "1           2  万泰花园第一居委会    3.0    1.0    0.0   七宝镇      闵行区  121.351529   \n",
       "2           3   万科阳光苑居委会    2.0    0.0    0.0   吴泾镇      闵行区  121.468520   \n",
       "3           4      万豪居委会    3.0    0.0    0.0   长征镇      普陀区  121.367237   \n",
       "4           5  万里名轩社区居委会    2.0    NaN    0.0  万里街道      普陀区  121.403601   \n",
       "\n",
       "    latitude  transformed_longitude  transformed_latitude  \\\n",
       "0  31.155882          -2.822208e+06          4.677636e+06   \n",
       "1  31.144327          -2.842711e+06          4.665980e+06   \n",
       "2  31.042285          -2.855282e+06          4.665149e+06   \n",
       "3  31.240725          -2.841109e+06          4.660474e+06   \n",
       "4  31.269155          -2.843214e+06          4.657274e+06   \n",
       "\n",
       "                                       geometry  \n",
       "0  POINT (-2822207.586532274 4677635.626522204)  \n",
       "1   POINT (-2842710.938446562 4665979.72602233)  \n",
       "2   POINT (-2855282.42475198 4665148.863744967)  \n",
       "3  POINT (-2841108.748930958 4660473.749148724)  \n",
       "4  POINT (-2843213.856075277 4657273.732656028)  "
      ]
     },
     "execution_count": 365,
     "metadata": {},
     "output_type": "execute_result"
    }
   ],
   "source": [
    "wellbeing.head()"
   ]
  },
  {
   "cell_type": "markdown",
   "metadata": {},
   "source": [
    "We drop the line for which an information is missing"
   ]
  },
  {
   "cell_type": "code",
   "execution_count": 7,
   "metadata": {},
   "outputs": [],
   "source": [
    "wellbeing=wellbeing.dropna()"
   ]
  },
  {
   "cell_type": "markdown",
   "metadata": {},
   "source": [
    "## Search of informations concerning the different areas were we have study information"
   ]
  },
  {
   "cell_type": "markdown",
   "metadata": {},
   "source": [
    "I change the informations about coordinates into points"
   ]
  },
  {
   "cell_type": "code",
   "execution_count": 12,
   "metadata": {},
   "outputs": [],
   "source": [
    "geometry = [Point(xy) for xy in zip(taxi['transformed_longitude'], taxi['transformed_latitude'])]\n",
    "taxi['geometry'] = geometry"
   ]
  },
  {
   "cell_type": "code",
   "execution_count": 13,
   "metadata": {},
   "outputs": [],
   "source": [
    "geometry = [Point(xy) for xy in zip(poi['transformed_longitude'], poi['transformed_latitude'])]\n",
    "poi['geometry'] = geometry"
   ]
  },
  {
   "cell_type": "code",
   "execution_count": 14,
   "metadata": {},
   "outputs": [],
   "source": [
    "geometry = [Point(xy) for xy in zip(Subway['transformed_longitude'], Subway['transformed_latitude'])]\n",
    "Subway['geometry'] = geometry"
   ]
  },
  {
   "cell_type": "code",
   "execution_count": 15,
   "metadata": {},
   "outputs": [],
   "source": [
    "poi=poi.dropna()"
   ]
  },
  {
   "cell_type": "markdown",
   "metadata": {},
   "source": [
    "As there is really a lot of information in the POI datas, and as some are not relevant, I chose to only keep the information about 4 category"
   ]
  },
  {
   "cell_type": "code",
   "execution_count": 16,
   "metadata": {},
   "outputs": [],
   "source": [
    "Resto=poi[poi.category=='Restaurant']\n",
    "Transp=poi[poi.category=='Transportation']\n",
    "Sport=poi[poi.category=='Sports and leisure']\n",
    "Shop=poi[poi.category=='Shopping']"
   ]
  },
  {
   "cell_type": "markdown",
   "metadata": {},
   "source": [
    "I create a X matrix, with the columns corresponding to the data I will take into account"
   ]
  },
  {
   "cell_type": "code",
   "execution_count": 17,
   "metadata": {},
   "outputs": [],
   "source": [
    "columns=['restaurant','shopping','sport','transportation','subway','taxi']\n",
    "X=pd.DataFrame(columns=columns,index=range(len(wellbeing)))"
   ]
  },
  {
   "cell_type": "code",
   "execution_count": 18,
   "metadata": {},
   "outputs": [],
   "source": [
    "Restaurant=[]\n",
    "Transportation=[]\n",
    "Sportleisure=[]\n",
    "Shopping=[]\n",
    "Subwaylist=[]\n",
    "Taxicount=[]"
   ]
  },
  {
   "cell_type": "code",
   "execution_count": 19,
   "metadata": {},
   "outputs": [],
   "source": [
    "Resto=gpd.GeoDataFrame(Resto,geometry=Resto['geometry'])\n",
    "Transp=gpd.GeoDataFrame(Transp,geometry=Transp['geometry'])\n",
    "Sport=gpd.GeoDataFrame(Sport,geometry=Sport['geometry'])\n",
    "Shop=gpd.GeoDataFrame(Shop,geometry=Shop['geometry'])"
   ]
  },
  {
   "cell_type": "markdown",
   "metadata": {},
   "source": [
    "For each of the datas from ste study, I look on a area of 200m around their position the number of POI, taxi, subway ..., and I stock this information on different list"
   ]
  },
  {
   "cell_type": "code",
   "execution_count": 20,
   "metadata": {},
   "outputs": [],
   "source": [
    "#for i, g in wellbeing[:20].iterrows():\n",
    "for i, g in wellbeing.iterrows():\n",
    "    gdf_f = Sport[Sport.geometry.within(g.geometry.buffer(200))]\n",
    "    count = len(gdf_f)\n",
    "    Sportleisure.append(count)\n",
    "for i, g in wellbeing.iterrows():\n",
    "    gdf_f = Transp[Transp.geometry.within(g.geometry.buffer(200))]\n",
    "    count = len(gdf_f)\n",
    "    Transportation.append(count)\n",
    "for i, g in wellbeing.iterrows():\n",
    "    gdf_f = Resto[Resto.geometry.within(g.geometry.buffer(200))]\n",
    "    count = len(gdf_f)\n",
    "    Restaurant.append(count)\n",
    "for i, g in wellbeing.iterrows():\n",
    "    gdf_f = Shop[Shop.geometry.within(g.geometry.buffer(200))]\n",
    "    count = len(gdf_f)\n",
    "    Shopping.append(count)"
   ]
  },
  {
   "cell_type": "code",
   "execution_count": 21,
   "metadata": {},
   "outputs": [],
   "source": [
    "Subway=gpd.GeoDataFrame(Subway,geometry=Subway['geometry'])"
   ]
  },
  {
   "cell_type": "code",
   "execution_count": 22,
   "metadata": {},
   "outputs": [],
   "source": [
    "for i, g in wellbeing.iterrows():\n",
    "    gdf_f = Subway[Subway.geometry.within(g.geometry.buffer(200))]\n",
    "    count = len(gdf_f)\n",
    "    Subwaylist.append(count)"
   ]
  },
  {
   "cell_type": "code",
   "execution_count": 23,
   "metadata": {},
   "outputs": [],
   "source": [
    "taxi=gpd.GeoDataFrame(taxi,geometry=taxi['geometry'])"
   ]
  },
  {
   "cell_type": "code",
   "execution_count": 203,
   "metadata": {},
   "outputs": [],
   "source": [
    "for i, g in wellbeing.iterrows():\n",
    "    gdf_f = taxi[taxi.geometry.within(g.geometry.buffer(200))]\n",
    "    count = len(gdf_f)\n",
    "    Taxicount.append(count)"
   ]
  },
  {
   "cell_type": "markdown",
   "metadata": {},
   "source": [
    "I put the precedent results in the X matrix, on the corresponding columns"
   ]
  },
  {
   "cell_type": "code",
   "execution_count": 225,
   "metadata": {},
   "outputs": [
    {
     "data": {
      "text/html": [
       "<div>\n",
       "<style scoped>\n",
       "    .dataframe tbody tr th:only-of-type {\n",
       "        vertical-align: middle;\n",
       "    }\n",
       "\n",
       "    .dataframe tbody tr th {\n",
       "        vertical-align: top;\n",
       "    }\n",
       "\n",
       "    .dataframe thead th {\n",
       "        text-align: right;\n",
       "    }\n",
       "</style>\n",
       "<table border=\"1\" class=\"dataframe\">\n",
       "  <thead>\n",
       "    <tr style=\"text-align: right;\">\n",
       "      <th></th>\n",
       "      <th>restaurant</th>\n",
       "      <th>shopping</th>\n",
       "      <th>sport</th>\n",
       "      <th>transportation</th>\n",
       "      <th>subway</th>\n",
       "      <th>taxi</th>\n",
       "    </tr>\n",
       "  </thead>\n",
       "  <tbody>\n",
       "    <tr>\n",
       "      <th>0</th>\n",
       "      <td>26</td>\n",
       "      <td>46</td>\n",
       "      <td>3</td>\n",
       "      <td>31</td>\n",
       "      <td>0</td>\n",
       "      <td>32</td>\n",
       "    </tr>\n",
       "    <tr>\n",
       "      <th>1</th>\n",
       "      <td>74</td>\n",
       "      <td>52</td>\n",
       "      <td>19</td>\n",
       "      <td>25</td>\n",
       "      <td>0</td>\n",
       "      <td>200</td>\n",
       "    </tr>\n",
       "    <tr>\n",
       "      <th>2</th>\n",
       "      <td>29</td>\n",
       "      <td>28</td>\n",
       "      <td>3</td>\n",
       "      <td>7</td>\n",
       "      <td>0</td>\n",
       "      <td>566</td>\n",
       "    </tr>\n",
       "    <tr>\n",
       "      <th>3</th>\n",
       "      <td>35</td>\n",
       "      <td>36</td>\n",
       "      <td>6</td>\n",
       "      <td>35</td>\n",
       "      <td>0</td>\n",
       "      <td>285</td>\n",
       "    </tr>\n",
       "    <tr>\n",
       "      <th>4</th>\n",
       "      <td>5</td>\n",
       "      <td>27</td>\n",
       "      <td>2</td>\n",
       "      <td>22</td>\n",
       "      <td>0</td>\n",
       "      <td>430</td>\n",
       "    </tr>\n",
       "  </tbody>\n",
       "</table>\n",
       "</div>"
      ],
      "text/plain": [
       "   restaurant  shopping  sport  transportation  subway  taxi\n",
       "0          26        46      3              31       0    32\n",
       "1          74        52     19              25       0   200\n",
       "2          29        28      3               7       0   566\n",
       "3          35        36      6              35       0   285\n",
       "4           5        27      2              22       0   430"
      ]
     },
     "execution_count": 225,
     "metadata": {},
     "output_type": "execute_result"
    }
   ],
   "source": [
    "X['restaurant']=Restaurant\n",
    "X['shopping']=Shopping\n",
    "X['sport']=Sportleisure\n",
    "X['transportation']=Transportation\n",
    "X['subway']=Subwaylist\n",
    "X['taxi']=Taxicount\n",
    "X.head()"
   ]
  },
  {
   "cell_type": "code",
   "execution_count": 47,
   "metadata": {},
   "outputs": [],
   "source": [
    "#X2.to_pickle(\"X2.2.2.pickle\")\n",
    "#Y2.to_pickle(\"Y2.2.pickle\")"
   ]
  },
  {
   "cell_type": "code",
   "execution_count": 15,
   "metadata": {},
   "outputs": [],
   "source": [
    "#X2=pd.read_pickle(\"X2.2.2.pickle\")\n",
    "#Y2=pd.read_pickle(\"Y2.2.pickle\")"
   ]
  },
  {
   "cell_type": "markdown",
   "metadata": {},
   "source": [
    "## Happiness score"
   ]
  },
  {
   "cell_type": "code",
   "execution_count": 8,
   "metadata": {},
   "outputs": [],
   "source": [
    "wellbeing['clean2']=0\n",
    "wellbeing['hapiness']=0\n",
    "wellbeing['category']=0"
   ]
  },
  {
   "cell_type": "markdown",
   "metadata": {},
   "source": [
    "I then convert the 1-4 score of cleaness to a 0-1 score, and compute a hapiness score, depending on the 3 factors. I put a negative factor before Noise and Smell as 1 is the worst.\n",
    "As the worst score possible is 1/1/1, I make some ajustment, so the minimal score of hapiness stays 0 and not -0.4, so the hapiness score is between 0 and 1."
   ]
  },
  {
   "cell_type": "code",
   "execution_count": 9,
   "metadata": {},
   "outputs": [],
   "source": [
    "wellbeing['clean2'] = wellbeing['clean'].apply(lambda x: (x-1)/3)\n",
    "wellbeing['hapiness'] = wellbeing['clean2']-wellbeing['noise'].apply(lambda x: x/3)-wellbeing['smell'].apply(lambda x: x/3)\n",
    "wellbeing['hapiness'] = wellbeing['hapiness'].apply(lambda x: (x+0.4)/1.4)"
   ]
  },
  {
   "cell_type": "markdown",
   "metadata": {},
   "source": [
    "I create a Y matrix, with the columns \"happiness\" who will contain the numerical score , and a column \"score\" who will contain the categorized result"
   ]
  },
  {
   "cell_type": "code",
   "execution_count": 10,
   "metadata": {},
   "outputs": [],
   "source": [
    "Y=pd.DataFrame(columns=['happiness','score'])"
   ]
  },
  {
   "cell_type": "code",
   "execution_count": 11,
   "metadata": {},
   "outputs": [],
   "source": [
    "Y.happiness=wellbeing.hapiness"
   ]
  },
  {
   "cell_type": "markdown",
   "metadata": {},
   "source": [
    "Here I categorize the score of Happiness in 4 category, depending on the numeric score."
   ]
  },
  {
   "cell_type": "code",
   "execution_count": 12,
   "metadata": {},
   "outputs": [
    {
     "name": "stderr",
     "output_type": "stream",
     "text": [
      "C:\\Users\\guill\\Anaconda3\\lib\\site-packages\\ipykernel_launcher.py:9: SettingWithCopyWarning: \n",
      "A value is trying to be set on a copy of a slice from a DataFrame\n",
      "\n",
      "See the caveats in the documentation: http://pandas.pydata.org/pandas-docs/stable/indexing.html#indexing-view-versus-copy\n",
      "  if __name__ == '__main__':\n",
      "C:\\Users\\guill\\Anaconda3\\lib\\site-packages\\ipykernel_launcher.py:7: SettingWithCopyWarning: \n",
      "A value is trying to be set on a copy of a slice from a DataFrame\n",
      "\n",
      "See the caveats in the documentation: http://pandas.pydata.org/pandas-docs/stable/indexing.html#indexing-view-versus-copy\n",
      "  import sys\n",
      "C:\\Users\\guill\\Anaconda3\\lib\\site-packages\\ipykernel_launcher.py:5: SettingWithCopyWarning: \n",
      "A value is trying to be set on a copy of a slice from a DataFrame\n",
      "\n",
      "See the caveats in the documentation: http://pandas.pydata.org/pandas-docs/stable/indexing.html#indexing-view-versus-copy\n",
      "  \"\"\"\n",
      "C:\\Users\\guill\\Anaconda3\\lib\\site-packages\\ipykernel_launcher.py:3: SettingWithCopyWarning: \n",
      "A value is trying to be set on a copy of a slice from a DataFrame\n",
      "\n",
      "See the caveats in the documentation: http://pandas.pydata.org/pandas-docs/stable/indexing.html#indexing-view-versus-copy\n",
      "  This is separate from the ipykernel package so we can avoid doing imports until\n"
     ]
    }
   ],
   "source": [
    "for i,res in Y.iterrows():\n",
    "    if Y.happiness[i]<0.26:\n",
    "        Y.score[i]='Not Happy'\n",
    "    elif Y.happiness[i]<0.5:\n",
    "        Y.score[i]='Happy-'\n",
    "    elif Y.happiness[i]<0.75:\n",
    "        Y.score[i]='Happy+'\n",
    "    else:\n",
    "        Y.score[i]='Very Happy'"
   ]
  },
  {
   "cell_type": "markdown",
   "metadata": {},
   "source": [
    "I create a new variable, so I can store only the categorized score, for the machine learning."
   ]
  },
  {
   "cell_type": "code",
   "execution_count": 13,
   "metadata": {},
   "outputs": [],
   "source": [
    "Y2=Y.score"
   ]
  },
  {
   "cell_type": "markdown",
   "metadata": {},
   "source": [
    "I do the same thing with X, by creating X2, were I will put the scaled datas"
   ]
  },
  {
   "cell_type": "code",
   "execution_count": 342,
   "metadata": {},
   "outputs": [],
   "source": [
    "columns=['restaurant','shopping','sport','transportation','subway','taxi']\n",
    "X2=pd.DataFrame(columns=columns,index=range(len(wellbeing)))"
   ]
  },
  {
   "cell_type": "code",
   "execution_count": 343,
   "metadata": {},
   "outputs": [],
   "source": [
    "from sklearn.preprocessing import StandardScaler\n",
    "scaler=StandardScaler()\n",
    "X2['restaurant']=scaler.fit_transform(X[['restaurant']])\n",
    "X2['shopping']=scaler.fit_transform(X[['shopping']])\n",
    "X2['sport']=scaler.fit_transform(X[['sport']])\n",
    "X2['transportation']=scaler.fit_transform(X[['transportation']])\n",
    "X2['subway']=scaler.fit_transform(X[['subway']])\n",
    "X2['taxi']=scaler.fit_transform(X[['taxi']])"
   ]
  },
  {
   "cell_type": "markdown",
   "metadata": {},
   "source": [
    "## Machine Learning"
   ]
  },
  {
   "cell_type": "markdown",
   "metadata": {},
   "source": [
    "After testing different models, I found out that for our case (small amount of data, finding discrete datas etc.), the decision Tree abtained the best results"
   ]
  },
  {
   "cell_type": "code",
   "execution_count": 17,
   "metadata": {},
   "outputs": [],
   "source": [
    "from sklearn import tree\n",
    "from sklearn import datasets, linear_model\n",
    "from sklearn.model_selection import train_test_split\n",
    "from sklearn.tree import DecisionTreeClassifier\n",
    "from sklearn.model_selection import cross_val_score\n",
    "from sklearn.model_selection import ShuffleSplit\n",
    "import  matplotlib.pyplot as plt"
   ]
  },
  {
   "cell_type": "markdown",
   "metadata": {},
   "source": [
    "I search here for the best parameter concerning the depth of the decision tree. The danger here is to over-fit if I take an indix too high"
   ]
  },
  {
   "cell_type": "code",
   "execution_count": 18,
   "metadata": {},
   "outputs": [
    {
     "data": {
      "text/plain": [
       "GridSearchCV(cv=ShuffleSplit(n_splits=5, random_state=None, test_size=None, train_size=None),\n",
       "             error_score='raise-deprecating',\n",
       "             estimator=DecisionTreeClassifier(class_weight=None,\n",
       "                                              criterion='gini', max_depth=None,\n",
       "                                              max_features=None,\n",
       "                                              max_leaf_nodes=None,\n",
       "                                              min_impurity_decrease=0.0,\n",
       "                                              min_impurity_split=None,\n",
       "                                              min_samples_leaf=1,\n",
       "                                              min_samples_split=2,\n",
       "                                              min_weight_fraction_leaf=0.0,\n",
       "                                              presort=False, random_state=None,\n",
       "                                              splitter='best'),\n",
       "             iid='warn', n_jobs=None,\n",
       "             param_grid={'max_depth': [1, 2, 3, 4, 5, 6, 7, 8, 9, 10]},\n",
       "             pre_dispatch='2*n_jobs', refit=True, return_train_score=False,\n",
       "             scoring=None, verbose=0)"
      ]
     },
     "execution_count": 18,
     "metadata": {},
     "output_type": "execute_result"
    }
   ],
   "source": [
    "from sklearn.model_selection import GridSearchCV\n",
    "param_grid = {'max_depth':[1,2,3,4,5,6,7,8,9,10]}\n",
    "search = GridSearchCV(tree.DecisionTreeClassifier(),param_grid,cv=ShuffleSplit(n_splits=5))\n",
    "search.fit(X2,Y2)"
   ]
  },
  {
   "cell_type": "code",
   "execution_count": 19,
   "metadata": {},
   "outputs": [
    {
     "data": {
      "text/plain": [
       "{'max_depth': 2}"
      ]
     },
     "execution_count": 19,
     "metadata": {},
     "output_type": "execute_result"
    }
   ],
   "source": [
    "search.best_params_"
   ]
  },
  {
   "cell_type": "markdown",
   "metadata": {},
   "source": [
    "I train and test, following the indix of depth given previously."
   ]
  },
  {
   "cell_type": "code",
   "execution_count": 25,
   "metadata": {},
   "outputs": [
    {
     "data": {
      "text/plain": [
       "0.5333333333333332"
      ]
     },
     "execution_count": 25,
     "metadata": {},
     "output_type": "execute_result"
    }
   ],
   "source": [
    "X_train, X_test, y_train, y_test = train_test_split(X2, Y2, test_size=0.3)\n",
    "classifier = DecisionTreeClassifier(max_depth=2)\n",
    "classifier.fit(X_train, y_train)\n",
    "score=cross_val_score(classifier,X2,Y2,cv=ShuffleSplit(n_splits=5))\n",
    "np.mean(score)"
   ]
  },
  {
   "cell_type": "markdown",
   "metadata": {},
   "source": [
    "Plot of the decision tree, to get the more \"important\" data used"
   ]
  },
  {
   "cell_type": "code",
   "execution_count": 30,
   "metadata": {},
   "outputs": [
    {
     "data": {
      "text/plain": [
       "[Text(167.4, 181.2, 'X[1] <= -0.757\\nentropy = 0.634\\nsamples = 272\\nvalue = [101, 41, 7, 123]'),\n",
       " Text(83.7, 108.72, 'X[0] <= -0.863\\nentropy = 0.245\\nsamples = 7\\nvalue = [6, 1, 0, 0]'),\n",
       " Text(41.85, 36.23999999999998, 'entropy = 0.0\\nsamples = 6\\nvalue = [6, 0, 0, 0]'),\n",
       " Text(125.55000000000001, 36.23999999999998, 'entropy = 0.0\\nsamples = 1\\nvalue = [0, 1, 0, 0]'),\n",
       " Text(251.10000000000002, 108.72, 'X[3] <= -1.029\\nentropy = 0.633\\nsamples = 265\\nvalue = [95, 40, 7, 123]'),\n",
       " Text(209.25, 36.23999999999998, 'entropy = 0.587\\nsamples = 15\\nvalue = [0, 5, 2, 8]'),\n",
       " Text(292.95, 36.23999999999998, 'entropy = 0.624\\nsamples = 250\\nvalue = [95, 35, 5, 115]')]"
      ]
     },
     "execution_count": 30,
     "metadata": {},
     "output_type": "execute_result"
    },
    {
     "data": {
      "image/png": "[encoded data removed]",
      "text/plain": [
       "<Figure size 432x288 with 1 Axes>"
      ]
     },
     "metadata": {
      "needs_background": "light"
     },
     "output_type": "display_data"
    }
   ],
   "source": [
    "tree.plot_tree(classifier)"
   ]
  },
  {
   "cell_type": "code",
   "execution_count": 44,
   "metadata": {},
   "outputs": [],
   "source": [
    "import pickle\n",
    "filename = 'finalized_model.sav'\n",
    "pickle.dump(classifier, open(filename, 'wb'))"
   ]
  },
  {
   "cell_type": "markdown",
   "metadata": {},
   "source": [
    "# Discussion:\n",
    "After the machine learning , I obtain an estimator with a f1 accuracy of 0,53. This estimator is not very high, but we can say that he his better than random. As there is 4 option for the happiness score (Not Happy, Happy-, Happy+, Very Happy), randomly guessing the happiness score would result in an accuracy of 0,25.\n",
    "\n",
    "## Data\n",
    "In order to estimate the hapiness of the communities, I chose to take count the number of:\n",
    "\n",
    "    -Restaurant\n",
    "    -Taxi\n",
    "    -Sport facilities\n",
    "    -Transportation facilities\n",
    "    -Subway station\n",
    "    -Shopping\n",
    "in a circle of 200 meters around the localisation of the community. I found the number of 200 meters by trying different (50,100,200,400). The previous were too \"small\", and some communities had no informations. 400 meters is too big, and the results were less good.\n",
    "I then scaled the datas, so they are all on the same scall to use them efficiently later.\n",
    "\n",
    "## Happiness\n",
    "From the study given, people rate their community environment on 3 criteria : \n",
    "\n",
    "    -Clean (1 to 4, 4 is best)\n",
    "    -Smell (Binary, 0 is best)\n",
    "    -Noise (Binary, 0 is best)\n",
    "Tos simplify the treatment and the machine learning, I decided to compute a \"score of happiness\" from this criteria. I then came up with this formula :\n",
    "\n",
    "    ((Clean-1)/3-Smell*0,2-Noise*0,2+0,4)/1,4\n",
    "    \n",
    "    (Clean-1)/3 : This formula put back the result from clean between 0 and 1, with 4 possible values: 0,1/3,2/3,1\n",
    "    -Smell*0,2-Noise*0,2 : The smell and noise score are \"negative\", as 1 is the worst. I then decided of the 0,2 factor, to balance them regarding the clean score. If the factor is too high, they have too much weight, and a 1 in one of them descrease extremely the happiness. If the factor is too low, they don't have any influence.\n",
    "    +0,4)/1,4 : As I put 2 negative factors of 0,2 on binary, the worst score could be -0,4 and the best 1. I put this to get back the score between 0 and 1.\n",
    "    \n",
    "I then decided to categorize this happiness score, in 4 category : \n",
    "\n",
    "Not Happy (value<0,26), Happy-(0,26<=value<0,51), Happy+ (0,51<=value<0,76), Very Happy (value>=0,76).\n",
    "\n",
    "I did this so the machine learning is more efficient, with only 4 different possibilities.\n",
    "\n",
    "## Machine Learning\n",
    "After testing different models, I found out that for our case (small amount of data, finding discrete datas etc.), the decision Tree abtained the best results.\n",
    "Using the gridsearch, I found the best depth parameter, and I wes then capable to train a model and test it.\n",
    "After a test on 100 datas, I obtain an accuracy score of 0.53, so we can say that this model is better than random (who would have an accuracy of 0.25, as there is 4 category).\n",
    "\n",
    "## Conclusion\n",
    "The results are acceptable, as it is better than random, but they could maybe be better if we had more datas for the learning part(only around 400 datas on TARGET). \n",
    "\n",
    "This model allows to predict, with an accuracy of aroud 53%, \"at which point\" people will be happy or not. It's not a lot, but it give some informations, if people wonder in which neighborhood to live, for exemple. As shown by the decision tree, we can say that the more important datas are : shopping, then restaurant and transportation."
   ]
  }
 ],
 "metadata": {
  "kernelspec": {
   "display_name": "Python 3",
   "language": "python",
   "name": "python3"
  },
  "language_info": {
   "codemirror_mode": {
    "name": "ipython",
    "version": 3
   },
   "file_extension": ".py",
   "mimetype": "text/x-python",
   "name": "python",
   "nbconvert_exporter": "python",
   "pygments_lexer": "ipython3",
   "version": "3.7.3"
  }
 },
 "nbformat": 4,
 "nbformat_minor": 4
}
